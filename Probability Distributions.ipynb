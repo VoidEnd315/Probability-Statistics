{
  "nbformat": 4,
  "nbformat_minor": 0,
  "metadata": {
    "colab": {
      "provenance": [],
      "authorship_tag": "ABX9TyN7JoBGvFPpwHpZfddoyVjX",
      "include_colab_link": true
    },
    "kernelspec": {
      "name": "python3",
      "display_name": "Python 3"
    },
    "language_info": {
      "name": "python"
    }
  },
  "cells": [
    {
      "cell_type": "markdown",
      "metadata": {
        "id": "view-in-github",
        "colab_type": "text"
      },
      "source": [
        "<a href=\"https://colab.research.google.com/github/VoidEnd315/Probability-Statistics/blob/main/Probability%20Distributions.ipynb\" target=\"_parent\"><img src=\"https://colab.research.google.com/assets/colab-badge.svg\" alt=\"Open In Colab\"/></a>"
      ]
    },
    {
      "cell_type": "markdown",
      "source": [
        "#binomial dist"
      ],
      "metadata": {
        "id": "isIatAbDnVLe"
      }
    },
    {
      "cell_type": "markdown",
      "source": [
        "exactly x successes"
      ],
      "metadata": {
        "id": "7qSjCaLfwlJd"
      }
    },
    {
      "cell_type": "code",
      "source": [
        "import math\n",
        "#x= nof success\n",
        "x=2\n",
        "#n= nof trails\n",
        "n=5\n",
        "#p= probo of success\n",
        "p=.3\n",
        "def binomial(x,n,p):\n",
        "  q=1-p\n",
        "  Combination = (math.factorial(n)/(math.factorial(n-x)*math.factorial(x)))\n",
        "  probo =Combination*(p**x)*(q**(n-x))\n",
        "  return probo\n",
        "\n",
        "x=2\n",
        "print(f\"probo of getting exactly {x} successes: {binomial(x,n,p)}\")"
      ],
      "metadata": {
        "colab": {
          "base_uri": "https://localhost:8080/"
        },
        "id": "tHC3hTIgcrpr",
        "outputId": "da4cb667-dac3-4ea7-df37-dcc9485db561"
      },
      "execution_count": 25,
      "outputs": [
        {
          "output_type": "stream",
          "name": "stdout",
          "text": [
            "probo of getting exactly 2 successes: 0.3086999999999999\n"
          ]
        }
      ]
    },
    {
      "cell_type": "markdown",
      "source": [
        "atleast x successes"
      ],
      "metadata": {
        "id": "MC68WOwQwA5V"
      }
    },
    {
      "cell_type": "code",
      "source": [
        "import math\n",
        "#x= atleast nof successes\n",
        "x1=1\n",
        "#n= nof trails\n",
        "n=5\n",
        "#p= probo of success\n",
        "p=.3\n",
        "\n",
        "sum=0\n",
        "def binomial(x,n,p):\n",
        "  q=1-p\n",
        "  Combination = (math.factorial(n)/(math.factorial(n-x)*math.factorial(x)))\n",
        "  probo =Combination*(p**x)*(q**(n-x))\n",
        "  return probo\n",
        "for x in range(x1,n+1):\n",
        "  sum = sum + binomial(x,n,p)\n",
        "print(f\"probability of getting atleast {x1} successes: {sum}\")"
      ],
      "metadata": {
        "colab": {
          "base_uri": "https://localhost:8080/"
        },
        "id": "BqfQAu6ErYlK",
        "outputId": "bf6a3320-a6a2-4e53-92d7-24684637ce52"
      },
      "execution_count": 26,
      "outputs": [
        {
          "output_type": "stream",
          "name": "stdout",
          "text": [
            "probability of getting atleast 1 successes: 0.8319299999999998\n"
          ]
        }
      ]
    },
    {
      "cell_type": "markdown",
      "source": [
        "atmost x successes"
      ],
      "metadata": {
        "id": "QYAztXLlwIO2"
      }
    },
    {
      "cell_type": "code",
      "source": [
        "import math\n",
        "#x= atmost nof successes\n",
        "x2=5\n",
        "#n= nof trails\n",
        "n=5\n",
        "#p= probo of success\n",
        "p=.3\n",
        "\n",
        "sum=0\n",
        "def binomial(x,n,p):\n",
        "  q=1-p\n",
        "  Combination = (math.factorial(n)/(math.factorial(n-x)*math.factorial(x)))\n",
        "  probo =Combination*(p**x)*(q**(n-x))\n",
        "  return probo\n",
        "for x in range(0,x2+1):\n",
        "  sum = sum + binomial(x,n,p)\n",
        "print(f\"probability of getting atmost {x2} successes: {sum}\")"
      ],
      "metadata": {
        "colab": {
          "base_uri": "https://localhost:8080/"
        },
        "id": "5UN8-OJrwJJe",
        "outputId": "46317bff-7cb1-4b47-b7e7-07fe924ca670"
      },
      "execution_count": 29,
      "outputs": [
        {
          "output_type": "stream",
          "name": "stdout",
          "text": [
            "probability of getting atmost 5 successes: 0.9999999999999999\n"
          ]
        }
      ]
    },
    {
      "cell_type": "code",
      "source": [
        "import math\n",
        "import matplotlib.pyplot as plt\n",
        "\n",
        "# Number of trials (n) and probability of success (p)\n",
        "n = 5\n",
        "p = 0.3\n",
        "\n",
        "def binomial(x, n, p):\n",
        "    q = 1 - p\n",
        "    Combination = math.factorial(n) / (math.factorial(n - x) * math.factorial(x))\n",
        "    probo = Combination * (p**x) * (q**(n - x))\n",
        "    return probo\n",
        "\n",
        "# Calculate probabilities and print them\n",
        "x_values = range(n + 1)\n",
        "probo_values = [binomial(x, n, p) for x in x_values]\n",
        "\n",
        "cmf=0\n",
        "# Print probabilities for each x\n",
        "for x, probo in zip(x_values, probo_values):\n",
        "    print(f\"Probability at x={x}: {probo}\")\n",
        "    cmf=cmf+probo\n",
        "print(\"cmf :\",sum)\n",
        "# Calculate and print the cumulative sum (CMF)\n",
        "\n",
        "# Plotting the bar chart\n",
        "plt.bar(x_values, probo_values)\n",
        "plt.xlabel('x (Number of successes)')\n",
        "plt.ylabel('Probability')\n",
        "plt.title(f'Binomial Distribution (n={n}, p={p})')\n",
        "plt.show()\n"
      ],
      "metadata": {
        "colab": {
          "base_uri": "https://localhost:8080/",
          "height": 614
        },
        "id": "0fT2zCuXoCkW",
        "outputId": "93c1042e-8abc-43fb-9666-166ddac5349f"
      },
      "execution_count": null,
      "outputs": [
        {
          "output_type": "stream",
          "name": "stdout",
          "text": [
            "Probability at x=0: 0.16806999999999994\n",
            "Probability at x=1: 0.3601499999999999\n",
            "Probability at x=2: 0.3086999999999999\n",
            "Probability at x=3: 0.13229999999999997\n",
            "Probability at x=4: 0.028349999999999993\n",
            "Probability at x=5: 0.0024299999999999994\n",
            "cmf : 0.9999999999999999\n"
          ]
        },
        {
          "output_type": "display_data",
          "data": {
            "text/plain": [
              "<Figure size 640x480 with 1 Axes>"
            ],
            "image/png": "[encoded data removed]"
          },
          "metadata": {}
        }
      ]
    }
  ]
}