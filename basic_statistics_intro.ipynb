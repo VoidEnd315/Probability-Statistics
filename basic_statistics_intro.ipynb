{
  "nbformat": 4,
  "nbformat_minor": 0,
  "metadata": {
    "colab": {
      "provenance": [],
      "authorship_tag": "ABX9TyO7jKaBeT0kJJ+9yuq70TY+",
      "include_colab_link": true
    },
    "kernelspec": {
      "name": "python3",
      "display_name": "Python 3"
    },
    "language_info": {
      "name": "python"
    }
  },
  "cells": [
    {
      "cell_type": "markdown",
      "metadata": {
        "id": "view-in-github",
        "colab_type": "text"
      },
      "source": [
        "<a href=\"https://colab.research.google.com/github/VoidEnd315/Probability-Statistics/blob/main/basic_statistics_intro.ipynb\" target=\"_parent\"><img src=\"https://colab.research.google.com/assets/colab-badge.svg\" alt=\"Open In Colab\"/></a>"
      ]
    },
    {
      "cell_type": "code",
      "execution_count": null,
      "metadata": {
        "colab": {
          "base_uri": "https://localhost:8080/"
        },
        "id": "kHNijtN1XXt-",
        "outputId": "a984f53f-f940-4136-b73d-5be9c73161bb"
      },
      "outputs": [
        {
          "output_type": "stream",
          "name": "stdout",
          "text": [
            "[3, 6, 5, 2]\n"
          ]
        }
      ],
      "source": [
        "#Random sample\n",
        "from random import sample\n",
        "# marks of students in a class\n",
        "population =[1,2,3,4,5,6,7,8,9]\n",
        "RS = sample(population,4)\n",
        "print(RS)"
      ]
    },
    {
      "cell_type": "code",
      "source": [
        "def mean(a):\n",
        "    return sum(a)/len(a)\n",
        "mean(population)"
      ],
      "metadata": {
        "colab": {
          "base_uri": "https://localhost:8080/"
        },
        "id": "pB0q_hGwaA1i",
        "outputId": "b3ad503e-9fc6-4dbb-ebd8-c0fa470625e0"
      },
      "execution_count": null,
      "outputs": [
        {
          "output_type": "execute_result",
          "data": {
            "text/plain": [
              "5.0"
            ]
          },
          "metadata": {},
          "execution_count": 6
        }
      ]
    },
    {
      "cell_type": "code",
      "source": [
        "#mean inbuilt\n",
        "import numpy as np\n",
        "mean = np.mean(population)\n",
        "print(mean)"
      ],
      "metadata": {
        "colab": {
          "base_uri": "https://localhost:8080/"
        },
        "id": "K8zp55LYY_cd",
        "outputId": "31074ce3-b7b0-4757-a7aa-f32889aaa46a"
      },
      "execution_count": null,
      "outputs": [
        {
          "output_type": "stream",
          "name": "stdout",
          "text": [
            "5.0\n"
          ]
        }
      ]
    },
    {
      "cell_type": "code",
      "source": [
        "#varience of population\n",
        "def varience(a):\n",
        "  sum=0\n",
        "  u = np.mean(a)\n",
        "  for i in range(len(a)):\n",
        "    sum = sum + (a[i]-u)**2\n",
        "  return sum/(len(a))\n",
        "varience(population)"
      ],
      "metadata": {
        "colab": {
          "base_uri": "https://localhost:8080/"
        },
        "id": "TOquChXcZ1JB",
        "outputId": "5cff09d3-d64a-413a-fe7c-4f18c05513a3"
      },
      "execution_count": null,
      "outputs": [
        {
          "output_type": "execute_result",
          "data": {
            "text/plain": [
              "6.666666666666667"
            ]
          },
          "metadata": {},
          "execution_count": 23
        }
      ]
    },
    {
      "cell_type": "code",
      "source": [
        "#varience of sample\n",
        "def varience(a):\n",
        "  sum=0\n",
        "  u = np.mean(a)\n",
        "  for i in range(len(a)):\n",
        "    sum = sum + (a[i]-u)**2\n",
        "  return sum/(len(a)-1) # has a -1\n",
        "varience(RS)"
      ],
      "metadata": {
        "colab": {
          "base_uri": "https://localhost:8080/"
        },
        "id": "YGOPDhPfd-UQ",
        "outputId": "b46b9a4e-3329-473f-a6f4-eb6d1488bdee"
      },
      "execution_count": null,
      "outputs": [
        {
          "output_type": "execute_result",
          "data": {
            "text/plain": [
              "3.3333333333333335"
            ]
          },
          "metadata": {},
          "execution_count": 25
        }
      ]
    },
    {
      "cell_type": "code",
      "source": [
        "#varience inbuilt\n",
        "varience = np.var(population)\n",
        "print(varience)"
      ],
      "metadata": {
        "colab": {
          "base_uri": "https://localhost:8080/"
        },
        "id": "uNJCmqv5bd2O",
        "outputId": "19440f03-592b-41ee-d882-495924136f7b"
      },
      "execution_count": null,
      "outputs": [
        {
          "output_type": "stream",
          "name": "stdout",
          "text": [
            "6.666666666666667\n"
          ]
        }
      ]
    }
  ]
}